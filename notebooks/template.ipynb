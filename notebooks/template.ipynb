{
 "cells": [
  {
   "cell_type": "markdown",
   "id": "3970d938",
   "metadata": {},
   "source": [
    "## Importing module"
   ]
  },
  {
   "cell_type": "code",
   "execution_count": 1,
   "id": "e839ce1c",
   "metadata": {},
   "outputs": [],
   "source": [
    "import numpy as np"
   ]
  },
  {
   "cell_type": "markdown",
   "id": "da676e88",
   "metadata": {},
   "source": [
    "## Statistical model"
   ]
  },
  {
   "cell_type": "code",
   "execution_count": 2,
   "id": "750d331b",
   "metadata": {},
   "outputs": [],
   "source": [
    "import os\n",
    "os.chdir('/Users/nicopalm/Documents/Projects/ode/')"
   ]
  },
  {
   "cell_type": "code",
   "execution_count": 3,
   "id": "6496c0d3",
   "metadata": {},
   "outputs": [],
   "source": [
    "from src.minimizer.minimizer_library.differential_evolution import DifferentialEvolution\n",
    "from src.parametric_function_library.aging_model_Naumann import AgingModelNaumann\n",
    "from src.statistical_models.statistical_model_library.gaussian_noise_model import GaussianNoiseModel"
   ]
  },
  {
   "cell_type": "code",
   "execution_count": 4,
   "id": "2114c82a",
   "metadata": {},
   "outputs": [],
   "source": [
    "theta = np.array([4, 2300, 0.8])\n",
    "sigma = 0.029 ** 2\n",
    "\n",
    "lower_bounds_x = np.array([0.1, 279.15])\n",
    "upper_bounds_x = np.array([1, 333.15])\n",
    "\n",
    "lower_bounds_theta = np.array([0.1, 0.001, 0.1])\n",
    "upper_bounds_theta = np.array([10, 10000, 1])"
   ]
  },
  {
   "cell_type": "code",
   "execution_count": 5,
   "id": "d59dec4e",
   "metadata": {},
   "outputs": [],
   "source": [
    "parametric_function = AgingModelNaumann()"
   ]
  },
  {
   "cell_type": "code",
   "execution_count": 6,
   "id": "16f0e8a5",
   "metadata": {},
   "outputs": [],
   "source": [
    "statistical_model = GaussianNoiseModel(function=parametric_function, lower_bounds_x=lower_bounds_x,\n",
    "                                       upper_bounds_x=upper_bounds_x, lower_bounds_theta=lower_bounds_theta,\n",
    "                                       upper_bounds_theta=upper_bounds_theta, sigma=sigma)"
   ]
  },
  {
   "cell_type": "markdown",
   "id": "d79f1574",
   "metadata": {},
   "source": [
    "## Minimizer"
   ]
  },
  {
   "cell_type": "code",
   "execution_count": 7,
   "id": "e9a66038",
   "metadata": {},
   "outputs": [],
   "source": [
    "minimizer = DifferentialEvolution()"
   ]
  },
  {
   "cell_type": "markdown",
   "id": "4e67db65",
   "metadata": {},
   "source": [
    "## Blackbox function"
   ]
  },
  {
   "cell_type": "code",
   "execution_count": 8,
   "id": "c4dfeb2f",
   "metadata": {},
   "outputs": [],
   "source": [
    "def blackbox_model(x):\n",
    "    return statistical_model.random(theta=theta, x=x)"
   ]
  },
  {
   "cell_type": "markdown",
   "id": "20056f4b",
   "metadata": {},
   "source": [
    "## Designs"
   ]
  },
  {
   "cell_type": "code",
   "execution_count": 9,
   "id": "fd6483f7",
   "metadata": {},
   "outputs": [],
   "source": [
    "# Designs\n",
    "from src.benchmarking.benchmarking import Benchmarking\n",
    "from src.designs_of_experiments.design_library.d_design import DDesign\n",
    "from src.designs_of_experiments.design_library.latin_hypercube import LatinHypercube\n",
    "from src.designs_of_experiments.design_library.pi_design import PiDesign\n",
    "from src.designs_of_experiments.design_library.random import Random"
   ]
  },
  {
   "cell_type": "code",
   "execution_count": 10,
   "id": "43a71bd9",
   "metadata": {},
   "outputs": [],
   "source": [
    "number_designs = 6\n",
    "number_of_evaluations = 1000"
   ]
  },
  {
   "cell_type": "markdown",
   "id": "d4aa4617",
   "metadata": {},
   "source": [
    "### Latin Hypercube"
   ]
  },
  {
   "cell_type": "code",
   "execution_count": 11,
   "id": "941da9f2",
   "metadata": {},
   "outputs": [],
   "source": [
    "LH = LatinHypercube(lower_bounds_design=lower_bounds_x, upper_bounds_design=upper_bounds_x,\n",
    "                    number_designs=number_designs)"
   ]
  },
  {
   "cell_type": "markdown",
   "id": "92f0aef3",
   "metadata": {},
   "source": [
    "### Random"
   ]
  },
  {
   "cell_type": "code",
   "execution_count": 12,
   "id": "2daea9e3",
   "metadata": {},
   "outputs": [],
   "source": [
    "random_design = Random(number_designs=number_designs, lower_bounds_design=lower_bounds_x,\n",
    "                       upper_bounds_design=upper_bounds_x)"
   ]
  },
  {
   "cell_type": "markdown",
   "id": "6d16517a",
   "metadata": {},
   "source": [
    "### Pi-design"
   ]
  },
  {
   "cell_type": "code",
   "execution_count": 13,
   "id": "835f5bcd",
   "metadata": {},
   "outputs": [
    {
     "name": "stdout",
     "output_type": "stream",
     "text": [
      "The estimated theta is \n",
      " [9.93363267e+00 2.67648560e+03 9.87861800e-01]\n",
      "The real theta is \n",
      " [4.0e+00 2.3e+03 8.0e-01]\n"
     ]
    }
   ],
   "source": [
    "initial_theta = statistical_model.calculate_maximum_likelihood_estimation(\n",
    "    x0=LH.design, y=np.array([blackbox_model(x) for x in LH.design]), minimizer=minimizer)\n",
    "\n",
    "print(\"The estimated theta is \\n\",initial_theta)\n",
    "print(\"The real theta is \\n\",theta)"
   ]
  },
  {
   "cell_type": "code",
   "execution_count": 14,
   "id": "e3f9a3c7",
   "metadata": {},
   "outputs": [
    {
     "name": "stdout",
     "output_type": "stream",
     "text": [
      "The cramer rao lower bound at the estimated theta is \n",
      " [[1.94068670e+03 3.18253131e+04 1.54072708e+00]\n",
      " [3.18253131e+04 1.11688370e+06 3.05744692e+02]\n",
      " [1.54072708e+00 3.05744692e+02 1.95556382e-01]]\n",
      "The relative expected standard deviations of the parameter estimators are \n",
      " [4.43475486 0.39485629 0.44765125]\n",
      "Which parameter should be minimized? \n",
      "0\n"
     ]
    }
   ],
   "source": [
    "print('The cramer rao lower bound at the estimated theta is \\n',\n",
    "      statistical_model.calculate_cramer_rao_lower_bound(x0=LH.design, theta=initial_theta))\n",
    "print('The relative expected standard deviations of the parameter estimators are \\n', np.sqrt(\n",
    "    statistical_model.calculate_cramer_rao_lower_bound(x0=LH.design, theta=initial_theta).diagonal())/initial_theta)\n",
    "parameter = int(input('Which parameter should be minimized? \\n'))"
   ]
  },
  {
   "cell_type": "code",
   "execution_count": 15,
   "id": "4f556da5",
   "metadata": {},
   "outputs": [
    {
     "name": "stdout",
     "output_type": "stream",
     "text": [
      "Calculating the Parameter individual design...\n",
      "\n",
      "finished!\n",
      "CPU times: user 17.8 s, sys: 8.67 s, total: 26.5 s\n",
      "Wall time: 9.28 s\n"
     ]
    }
   ],
   "source": [
    "%%time\n",
    "min_entry = PiDesign(number_designs=number_designs, \n",
    "                     lower_bounds_design=lower_bounds_x,\n",
    "                     upper_bounds_design=upper_bounds_x,\n",
    "                     column=parameter, \n",
    "                     row=parameter, \n",
    "                     initial_theta=theta,\n",
    "                     statistical_model=statistical_model, \n",
    "                     previous_design=LH,\n",
    "                     minimizer=minimizer)"
   ]
  },
  {
   "cell_type": "markdown",
   "id": "29ece6c9",
   "metadata": {},
   "source": [
    "### Maximum determinant of Fisher Information matrix"
   ]
  },
  {
   "cell_type": "code",
   "execution_count": 16,
   "id": "e1b9cfb4",
   "metadata": {},
   "outputs": [
    {
     "name": "stdout",
     "output_type": "stream",
     "text": [
      "Calculating the Maximum determinant design...\n",
      "\n",
      "finished!\n",
      "CPU times: user 3.98 s, sys: 256 ms, total: 4.23 s\n",
      "Wall time: 3.77 s\n"
     ]
    }
   ],
   "source": [
    "%%time\n",
    "max_det = DDesign(number_designs=number_designs, lower_bounds_design=lower_bounds_x,\n",
    "                  upper_bounds_design=upper_bounds_x, initial_theta=theta,\n",
    "                  statistical_model=statistical_model, minimizer=minimizer)"
   ]
  },
  {
   "cell_type": "code",
   "execution_count": 17,
   "id": "5c7ca8a5",
   "metadata": {},
   "outputs": [],
   "source": [
    "designs_of_experiments=[LH, random_design, min_entry, max_det]"
   ]
  },
  {
   "cell_type": "markdown",
   "id": "b9e36326",
   "metadata": {},
   "source": [
    "### Plotting"
   ]
  },
  {
   "cell_type": "markdown",
   "id": "dd864ed0",
   "metadata": {},
   "source": [
    "In our case, we can plot the design points since they lie in the two dimensional real plane."
   ]
  },
  {
   "cell_type": "code",
   "execution_count": 18,
   "id": "9bd94328",
   "metadata": {},
   "outputs": [
    {
     "data": {
      "application/vnd.jupyter.widget-view+json": {
       "model_id": "18add81b6365480d904ddad796862143",
       "version_major": 2,
       "version_minor": 0
      },
      "text/plain": [
       "interactive(children=(Dropdown(description='index', options=(0, 1, 2, 3), value=0), Output()), _dom_classes=('…"
      ]
     },
     "metadata": {},
     "output_type": "display_data"
    }
   ],
   "source": [
    "# plot design points\n",
    "from src.visualization.plotting_functions import *\n",
    "from ipywidgets import interact\n",
    "\n",
    "data = [dot_scatter(x_dots=designs_of_experiments[0].design.T[0],\n",
    "                    y_dots=designs_of_experiments[0].design.T[1],fill=None)]\n",
    "fig0 = go.FigureWidget(data=data)\n",
    "fig0 = update_layout_of_graph(fig0,\n",
    "                              title='Design points')\n",
    "\n",
    "@interact(index=range(len(designs_of_experiments)))\n",
    "def update(index='LH'):\n",
    "    with fig0.batch_update():\n",
    "        fig0.update_layout(title=designs_of_experiments[index].name)\n",
    "        fig0.data[0].x = designs_of_experiments[index].design.T[0]\n",
    "        fig0.data[0].y = designs_of_experiments[index].design.T[1]\n",
    "        \n",
    "    return fig0"
   ]
  },
  {
   "cell_type": "markdown",
   "id": "7abcbf62",
   "metadata": {},
   "source": [
    "## Benchmarking"
   ]
  },
  {
   "cell_type": "code",
   "execution_count": 19,
   "id": "ce6ac9e7",
   "metadata": {},
   "outputs": [],
   "source": [
    "benchmarking = Benchmarking(blackbox_model=blackbox_model, statistical_model=statistical_model,\n",
    "                            designs_of_experiments=designs_of_experiments)"
   ]
  },
  {
   "cell_type": "code",
   "execution_count": null,
   "id": "d841c922",
   "metadata": {},
   "outputs": [
    {
     "name": "stderr",
     "output_type": "stream",
     "text": [
      "Evaluate the Latin Hypercube design: 100%|██| 1000/1000 [02:42<00:00,  6.17it/s]\n",
      "Evaluate the Random design: 100%|███████████| 1000/1000 [02:41<00:00,  6.19it/s]\n",
      "Evaluate the Parameter individual design: 100%|█| 1000/1000 [04:48<00:00,  3.46i\n",
      "Evaluate the Maximum determinant design:  19%|▏| 186/1000 [00:29<02:09,  6.28it/"
     ]
    }
   ],
   "source": [
    "benchmarking.evaluate_designs(number_of_evaluations=number_of_evaluations, minimizer=minimizer)"
   ]
  },
  {
   "cell_type": "code",
   "execution_count": null,
   "id": "94259c93",
   "metadata": {},
   "outputs": [],
   "source": [
    "benchmarking.plot_estimations()"
   ]
  },
  {
   "cell_type": "markdown",
   "id": "a7c4f090",
   "metadata": {},
   "source": [
    "## Metrics"
   ]
  },
  {
   "cell_type": "code",
   "execution_count": null,
   "id": "e2cce6fb",
   "metadata": {},
   "outputs": [],
   "source": [
    "from src.metrics.metric_library.determinant_of_fisher_information_matrix import DeterminantOfFisherInformationMatrix\n",
    "from src.metrics.metric_library.estimation_mean_error import EstimationMeanError\n",
    "from src.metrics.metric_library.estimation_mean_parameter_estimations import EstimationMeanParameterEstimations\n",
    "from src.metrics.metric_library.estimation_variance_parameter_estimations import EstimationVarianceParameterEstimations\n",
    "from src.metrics.metric_library.k_fold_cross_validation import KFoldCrossValidation"
   ]
  },
  {
   "cell_type": "markdown",
   "id": "21690979",
   "metadata": {},
   "source": [
    "### Determinant of Fisher information matrix"
   ]
  },
  {
   "cell_type": "code",
   "execution_count": null,
   "id": "62deb9a4",
   "metadata": {},
   "outputs": [],
   "source": [
    "det_metric = DeterminantOfFisherInformationMatrix(theta=theta, statistical_model=statistical_model)"
   ]
  },
  {
   "cell_type": "code",
   "execution_count": null,
   "id": "e48fad15",
   "metadata": {},
   "outputs": [],
   "source": [
    "fig = det_metric.plot(\n",
    "    evaluations_blackbox_function_for_each_design=benchmarking.evaluations_blackbox_function,\n",
    "    estimations_of_parameter_for_each_design=benchmarking.maximum_likelihood_estimations,\n",
    "    baseline=\"max\",\n",
    ")\n",
    "fig.show()"
   ]
  },
  {
   "cell_type": "markdown",
   "id": "a56d93ff",
   "metadata": {},
   "source": [
    "### Estimated mean of parameter estimation"
   ]
  },
  {
   "cell_type": "code",
   "execution_count": null,
   "id": "a548f46b",
   "metadata": {},
   "outputs": [],
   "source": [
    "estimation_mean_parameter_estimation=EstimationMeanParameterEstimations()"
   ]
  },
  {
   "cell_type": "code",
   "execution_count": null,
   "id": "b44193e6",
   "metadata": {},
   "outputs": [],
   "source": [
    "estimation_mean_parameter_estimation.plot(\n",
    "    evaluations_blackbox_function_for_each_design=benchmarking.evaluations_blackbox_function,\n",
    "    estimations_of_parameter_for_each_design=benchmarking.maximum_likelihood_estimations,\n",
    "    baseline=theta,\n",
    ")\n"
   ]
  },
  {
   "cell_type": "markdown",
   "id": "6bda8531",
   "metadata": {},
   "source": [
    "### Estimated variance of parameter estimation"
   ]
  },
  {
   "cell_type": "code",
   "execution_count": null,
   "id": "60c30934",
   "metadata": {},
   "outputs": [],
   "source": [
    "estimation_var_parameter_estimation=EstimationVarianceParameterEstimations()"
   ]
  },
  {
   "cell_type": "code",
   "execution_count": null,
   "id": "06acee42",
   "metadata": {},
   "outputs": [],
   "source": [
    "baseline = np.array([statistical_model.calculate_cramer_rao_lower_bound(\n",
    "    x0=design.design, theta=theta).diagonal() for design in designs_of_experiments]).T\n",
    "baseline"
   ]
  },
  {
   "cell_type": "code",
   "execution_count": null,
   "id": "b817423e",
   "metadata": {},
   "outputs": [],
   "source": [
    "estimation_var_parameter_estimation.plot(\n",
    "    evaluations_blackbox_function_for_each_design=benchmarking.evaluations_blackbox_function,\n",
    "    estimations_of_parameter_for_each_design=benchmarking.maximum_likelihood_estimations,\n",
    "    baseline=baseline,\n",
    ")"
   ]
  },
  {
   "cell_type": "markdown",
   "id": "da0f50ec",
   "metadata": {},
   "source": [
    "### Estimated mean error"
   ]
  },
  {
   "cell_type": "markdown",
   "id": "44579906",
   "metadata": {},
   "source": [
    "This error function allows us to estimate the mean error in the model for the error in the estimating the correct parameter."
   ]
  },
  {
   "cell_type": "code",
   "execution_count": null,
   "id": "afac2e0d",
   "metadata": {},
   "outputs": [],
   "source": [
    "estimation_mean_error = EstimationMeanError(number_evaluations=100, theta=theta,\n",
    "                               statistical_model=statistical_model)"
   ]
  },
  {
   "cell_type": "code",
   "execution_count": null,
   "id": "eedb2b18",
   "metadata": {},
   "outputs": [],
   "source": [
    "estimation_mean_error.plot(\n",
    "    evaluations_blackbox_function_for_each_design=benchmarking.evaluations_blackbox_function,\n",
    "    estimations_of_parameter_for_each_design=benchmarking.maximum_likelihood_estimations,\n",
    "    baseline=\"min\",\n",
    ")"
   ]
  },
  {
   "cell_type": "markdown",
   "id": "f2a07c78",
   "metadata": {},
   "source": [
    "## Validation"
   ]
  },
  {
   "cell_type": "markdown",
   "id": "24a10e19",
   "metadata": {},
   "source": [
    "### K-fold cross validation"
   ]
  },
  {
   "cell_type": "code",
   "execution_count": null,
   "id": "23e4902c",
   "metadata": {},
   "outputs": [],
   "source": [
    "k_fold_data = {}\n",
    "for design in benchmarking.evaluations_blackbox_function.keys():\n",
    "    k_fold_data[design] = benchmarking.evaluations_blackbox_function[design][0]"
   ]
  },
  {
   "cell_type": "code",
   "execution_count": null,
   "id": "311e6266",
   "metadata": {},
   "outputs": [],
   "source": [
    "k_fold_validation = KFoldCrossValidation(statistical_model=statistical_model, minimizer=minimizer)"
   ]
  },
  {
   "cell_type": "code",
   "execution_count": null,
   "id": "509cd27f",
   "metadata": {},
   "outputs": [],
   "source": [
    "k_fold_validation.plot(\n",
    "    evaluations_blackbox_function_for_each_design=k_fold_data,\n",
    "    estimations_of_parameter_for_each_design=benchmarking.maximum_likelihood_estimations,\n",
    "    baseline=\"min\",\n",
    ")"
   ]
  }
 ],
 "metadata": {
  "kernelspec": {
   "display_name": "Python 3 (ipykernel)",
   "language": "python",
   "name": "python3"
  },
  "language_info": {
   "codemirror_mode": {
    "name": "ipython",
    "version": 3
   },
   "file_extension": ".py",
   "mimetype": "text/x-python",
   "name": "python",
   "nbconvert_exporter": "python",
   "pygments_lexer": "ipython3",
   "version": "3.9.12"
  },
  "toc": {
   "base_numbering": 1,
   "nav_menu": {},
   "number_sections": true,
   "sideBar": true,
   "skip_h1_title": false,
   "title_cell": "Table of Contents",
   "title_sidebar": "Contents",
   "toc_cell": false,
   "toc_position": {},
   "toc_section_display": true,
   "toc_window_display": false
  },
  "varInspector": {
   "cols": {
    "lenName": 16,
    "lenType": 16,
    "lenVar": 40
   },
   "kernels_config": {
    "python": {
     "delete_cmd_postfix": "",
     "delete_cmd_prefix": "del ",
     "library": "var_list.py",
     "varRefreshCmd": "print(var_dic_list())"
    },
    "r": {
     "delete_cmd_postfix": ") ",
     "delete_cmd_prefix": "rm(",
     "library": "var_list.r",
     "varRefreshCmd": "cat(var_dic_list()) "
    }
   },
   "types_to_exclude": [
    "module",
    "function",
    "builtin_function_or_method",
    "instance",
    "_Feature"
   ],
   "window_display": false
  }
 },
 "nbformat": 4,
 "nbformat_minor": 5
}
